{
  "nbformat": 4,
  "nbformat_minor": 0,
  "metadata": {
    "colab": {
      "provenance": []
    },
    "kernelspec": {
      "name": "python3",
      "display_name": "Python 3"
    },
    "language_info": {
      "name": "python"
    }
  },
  "cells": [
    {
      "cell_type": "markdown",
      "source": [
        "### Power of Cassandra and ChatGPT for PDF Data Ingestion and Question Answering using AstraDB & Langchain 🦜\n",
        "[**Link to my YouTube Channel**](https://www.youtube.com/BhaveshBhatt8791?sub_confirmation=1)"
      ],
      "metadata": {
        "id": "Q8hkQflCaog4"
      }
    },
    {
      "cell_type": "markdown",
      "source": [
        "# Installs"
      ],
      "metadata": {
        "id": "UF0zhpH3bfb5"
      }
    },
    {
      "cell_type": "code",
      "execution_count": 1,
      "metadata": {
        "id": "YkgQX3rTKzlV",
        "colab": {
          "base_uri": "https://localhost:8080/"
        },
        "outputId": "c64c78da-1dd2-4ce8-c886-212c967c399a"
      },
      "outputs": [
        {
          "output_type": "stream",
          "name": "stdout",
          "text": [
            "\u001b[31mERROR: pip's dependency resolver does not currently take into account all the packages that are installed. This behaviour is the source of the following dependency conflicts.\n",
            "langchain-openai 0.3.7 requires tiktoken<1,>=0.7, but you have tiktoken 0.4.0 which is incompatible.\u001b[0m\u001b[31m\n",
            "\u001b[0mRequirement already satisfied: langchain_community in /usr/local/lib/python3.11/dist-packages (0.3.19)\n",
            "Requirement already satisfied: langchain-core<1.0.0,>=0.3.41 in /usr/local/lib/python3.11/dist-packages (from langchain_community) (0.3.41)\n",
            "Requirement already satisfied: langchain<1.0.0,>=0.3.20 in /usr/local/lib/python3.11/dist-packages (from langchain_community) (0.3.20)\n",
            "Requirement already satisfied: SQLAlchemy<3,>=1.4 in /usr/local/lib/python3.11/dist-packages (from langchain_community) (2.0.38)\n",
            "Requirement already satisfied: requests<3,>=2 in /usr/local/lib/python3.11/dist-packages (from langchain_community) (2.32.3)\n",
            "Requirement already satisfied: PyYAML>=5.3 in /usr/local/lib/python3.11/dist-packages (from langchain_community) (6.0.2)\n",
            "Requirement already satisfied: aiohttp<4.0.0,>=3.8.3 in /usr/local/lib/python3.11/dist-packages (from langchain_community) (3.11.13)\n",
            "Requirement already satisfied: tenacity!=8.4.0,<10,>=8.1.0 in /usr/local/lib/python3.11/dist-packages (from langchain_community) (9.0.0)\n",
            "Requirement already satisfied: dataclasses-json<0.7,>=0.5.7 in /usr/local/lib/python3.11/dist-packages (from langchain_community) (0.6.7)\n",
            "Requirement already satisfied: pydantic-settings<3.0.0,>=2.4.0 in /usr/local/lib/python3.11/dist-packages (from langchain_community) (2.8.1)\n",
            "Requirement already satisfied: langsmith<0.4,>=0.1.125 in /usr/local/lib/python3.11/dist-packages (from langchain_community) (0.3.11)\n",
            "Requirement already satisfied: httpx-sse<1.0.0,>=0.4.0 in /usr/local/lib/python3.11/dist-packages (from langchain_community) (0.4.0)\n",
            "Requirement already satisfied: numpy<3,>=1.26.2 in /usr/local/lib/python3.11/dist-packages (from langchain_community) (1.26.4)\n",
            "Requirement already satisfied: aiohappyeyeballs>=2.3.0 in /usr/local/lib/python3.11/dist-packages (from aiohttp<4.0.0,>=3.8.3->langchain_community) (2.4.6)\n",
            "Requirement already satisfied: aiosignal>=1.1.2 in /usr/local/lib/python3.11/dist-packages (from aiohttp<4.0.0,>=3.8.3->langchain_community) (1.3.2)\n",
            "Requirement already satisfied: attrs>=17.3.0 in /usr/local/lib/python3.11/dist-packages (from aiohttp<4.0.0,>=3.8.3->langchain_community) (25.1.0)\n",
            "Requirement already satisfied: frozenlist>=1.1.1 in /usr/local/lib/python3.11/dist-packages (from aiohttp<4.0.0,>=3.8.3->langchain_community) (1.5.0)\n",
            "Requirement already satisfied: multidict<7.0,>=4.5 in /usr/local/lib/python3.11/dist-packages (from aiohttp<4.0.0,>=3.8.3->langchain_community) (6.1.0)\n",
            "Requirement already satisfied: propcache>=0.2.0 in /usr/local/lib/python3.11/dist-packages (from aiohttp<4.0.0,>=3.8.3->langchain_community) (0.3.0)\n",
            "Requirement already satisfied: yarl<2.0,>=1.17.0 in /usr/local/lib/python3.11/dist-packages (from aiohttp<4.0.0,>=3.8.3->langchain_community) (1.18.3)\n",
            "Requirement already satisfied: marshmallow<4.0.0,>=3.18.0 in /usr/local/lib/python3.11/dist-packages (from dataclasses-json<0.7,>=0.5.7->langchain_community) (3.26.1)\n",
            "Requirement already satisfied: typing-inspect<1,>=0.4.0 in /usr/local/lib/python3.11/dist-packages (from dataclasses-json<0.7,>=0.5.7->langchain_community) (0.9.0)\n",
            "Requirement already satisfied: langchain-text-splitters<1.0.0,>=0.3.6 in /usr/local/lib/python3.11/dist-packages (from langchain<1.0.0,>=0.3.20->langchain_community) (0.3.6)\n",
            "Requirement already satisfied: pydantic<3.0.0,>=2.7.4 in /usr/local/lib/python3.11/dist-packages (from langchain<1.0.0,>=0.3.20->langchain_community) (2.10.6)\n",
            "Requirement already satisfied: jsonpatch<2.0,>=1.33 in /usr/local/lib/python3.11/dist-packages (from langchain-core<1.0.0,>=0.3.41->langchain_community) (1.33)\n",
            "Requirement already satisfied: packaging<25,>=23.2 in /usr/local/lib/python3.11/dist-packages (from langchain-core<1.0.0,>=0.3.41->langchain_community) (24.2)\n",
            "Requirement already satisfied: typing-extensions>=4.7 in /usr/local/lib/python3.11/dist-packages (from langchain-core<1.0.0,>=0.3.41->langchain_community) (4.12.2)\n",
            "Requirement already satisfied: httpx<1,>=0.23.0 in /usr/local/lib/python3.11/dist-packages (from langsmith<0.4,>=0.1.125->langchain_community) (0.28.1)\n",
            "Requirement already satisfied: orjson<4.0.0,>=3.9.14 in /usr/local/lib/python3.11/dist-packages (from langsmith<0.4,>=0.1.125->langchain_community) (3.10.15)\n",
            "Requirement already satisfied: requests-toolbelt<2.0.0,>=1.0.0 in /usr/local/lib/python3.11/dist-packages (from langsmith<0.4,>=0.1.125->langchain_community) (1.0.0)\n",
            "Requirement already satisfied: zstandard<0.24.0,>=0.23.0 in /usr/local/lib/python3.11/dist-packages (from langsmith<0.4,>=0.1.125->langchain_community) (0.23.0)\n",
            "Requirement already satisfied: python-dotenv>=0.21.0 in /usr/local/lib/python3.11/dist-packages (from pydantic-settings<3.0.0,>=2.4.0->langchain_community) (1.0.1)\n",
            "Requirement already satisfied: charset-normalizer<4,>=2 in /usr/local/lib/python3.11/dist-packages (from requests<3,>=2->langchain_community) (3.4.1)\n",
            "Requirement already satisfied: idna<4,>=2.5 in /usr/local/lib/python3.11/dist-packages (from requests<3,>=2->langchain_community) (3.10)\n",
            "Requirement already satisfied: urllib3<3,>=1.21.1 in /usr/local/lib/python3.11/dist-packages (from requests<3,>=2->langchain_community) (2.3.0)\n",
            "Requirement already satisfied: certifi>=2017.4.17 in /usr/local/lib/python3.11/dist-packages (from requests<3,>=2->langchain_community) (2025.1.31)\n",
            "Requirement already satisfied: greenlet!=0.4.17 in /usr/local/lib/python3.11/dist-packages (from SQLAlchemy<3,>=1.4->langchain_community) (3.1.1)\n",
            "Requirement already satisfied: anyio in /usr/local/lib/python3.11/dist-packages (from httpx<1,>=0.23.0->langsmith<0.4,>=0.1.125->langchain_community) (3.7.1)\n",
            "Requirement already satisfied: httpcore==1.* in /usr/local/lib/python3.11/dist-packages (from httpx<1,>=0.23.0->langsmith<0.4,>=0.1.125->langchain_community) (1.0.7)\n",
            "Requirement already satisfied: h11<0.15,>=0.13 in /usr/local/lib/python3.11/dist-packages (from httpcore==1.*->httpx<1,>=0.23.0->langsmith<0.4,>=0.1.125->langchain_community) (0.14.0)\n",
            "Requirement already satisfied: jsonpointer>=1.9 in /usr/local/lib/python3.11/dist-packages (from jsonpatch<2.0,>=1.33->langchain-core<1.0.0,>=0.3.41->langchain_community) (3.0.0)\n",
            "Requirement already satisfied: annotated-types>=0.6.0 in /usr/local/lib/python3.11/dist-packages (from pydantic<3.0.0,>=2.7.4->langchain<1.0.0,>=0.3.20->langchain_community) (0.7.0)\n",
            "Requirement already satisfied: pydantic-core==2.27.2 in /usr/local/lib/python3.11/dist-packages (from pydantic<3.0.0,>=2.7.4->langchain<1.0.0,>=0.3.20->langchain_community) (2.27.2)\n",
            "Requirement already satisfied: mypy-extensions>=0.3.0 in /usr/local/lib/python3.11/dist-packages (from typing-inspect<1,>=0.4.0->dataclasses-json<0.7,>=0.5.7->langchain_community) (1.0.0)\n",
            "Requirement already satisfied: sniffio>=1.1 in /usr/local/lib/python3.11/dist-packages (from anyio->httpx<1,>=0.23.0->langsmith<0.4,>=0.1.125->langchain_community) (1.3.1)\n",
            "Requirement already satisfied: langchain-openai in /usr/local/lib/python3.11/dist-packages (0.3.7)\n",
            "Requirement already satisfied: langchain-core<1.0.0,>=0.3.39 in /usr/local/lib/python3.11/dist-packages (from langchain-openai) (0.3.41)\n",
            "Requirement already satisfied: openai<2.0.0,>=1.58.1 in /usr/local/lib/python3.11/dist-packages (from langchain-openai) (1.61.1)\n",
            "Collecting tiktoken<1,>=0.7 (from langchain-openai)\n",
            "  Using cached tiktoken-0.9.0-cp311-cp311-manylinux_2_17_x86_64.manylinux2014_x86_64.whl.metadata (6.7 kB)\n",
            "Requirement already satisfied: langsmith<0.4,>=0.1.125 in /usr/local/lib/python3.11/dist-packages (from langchain-core<1.0.0,>=0.3.39->langchain-openai) (0.3.11)\n",
            "Requirement already satisfied: tenacity!=8.4.0,<10.0.0,>=8.1.0 in /usr/local/lib/python3.11/dist-packages (from langchain-core<1.0.0,>=0.3.39->langchain-openai) (9.0.0)\n",
            "Requirement already satisfied: jsonpatch<2.0,>=1.33 in /usr/local/lib/python3.11/dist-packages (from langchain-core<1.0.0,>=0.3.39->langchain-openai) (1.33)\n",
            "Requirement already satisfied: PyYAML>=5.3 in /usr/local/lib/python3.11/dist-packages (from langchain-core<1.0.0,>=0.3.39->langchain-openai) (6.0.2)\n",
            "Requirement already satisfied: packaging<25,>=23.2 in /usr/local/lib/python3.11/dist-packages (from langchain-core<1.0.0,>=0.3.39->langchain-openai) (24.2)\n",
            "Requirement already satisfied: typing-extensions>=4.7 in /usr/local/lib/python3.11/dist-packages (from langchain-core<1.0.0,>=0.3.39->langchain-openai) (4.12.2)\n",
            "Requirement already satisfied: pydantic<3.0.0,>=2.5.2 in /usr/local/lib/python3.11/dist-packages (from langchain-core<1.0.0,>=0.3.39->langchain-openai) (2.10.6)\n",
            "Requirement already satisfied: anyio<5,>=3.5.0 in /usr/local/lib/python3.11/dist-packages (from openai<2.0.0,>=1.58.1->langchain-openai) (3.7.1)\n",
            "Requirement already satisfied: distro<2,>=1.7.0 in /usr/local/lib/python3.11/dist-packages (from openai<2.0.0,>=1.58.1->langchain-openai) (1.9.0)\n",
            "Requirement already satisfied: httpx<1,>=0.23.0 in /usr/local/lib/python3.11/dist-packages (from openai<2.0.0,>=1.58.1->langchain-openai) (0.28.1)\n",
            "Requirement already satisfied: jiter<1,>=0.4.0 in /usr/local/lib/python3.11/dist-packages (from openai<2.0.0,>=1.58.1->langchain-openai) (0.8.2)\n",
            "Requirement already satisfied: sniffio in /usr/local/lib/python3.11/dist-packages (from openai<2.0.0,>=1.58.1->langchain-openai) (1.3.1)\n",
            "Requirement already satisfied: tqdm>4 in /usr/local/lib/python3.11/dist-packages (from openai<2.0.0,>=1.58.1->langchain-openai) (4.67.1)\n",
            "Requirement already satisfied: regex>=2022.1.18 in /usr/local/lib/python3.11/dist-packages (from tiktoken<1,>=0.7->langchain-openai) (2024.11.6)\n",
            "Requirement already satisfied: requests>=2.26.0 in /usr/local/lib/python3.11/dist-packages (from tiktoken<1,>=0.7->langchain-openai) (2.32.3)\n",
            "Requirement already satisfied: idna>=2.8 in /usr/local/lib/python3.11/dist-packages (from anyio<5,>=3.5.0->openai<2.0.0,>=1.58.1->langchain-openai) (3.10)\n",
            "Requirement already satisfied: certifi in /usr/local/lib/python3.11/dist-packages (from httpx<1,>=0.23.0->openai<2.0.0,>=1.58.1->langchain-openai) (2025.1.31)\n",
            "Requirement already satisfied: httpcore==1.* in /usr/local/lib/python3.11/dist-packages (from httpx<1,>=0.23.0->openai<2.0.0,>=1.58.1->langchain-openai) (1.0.7)\n",
            "Requirement already satisfied: h11<0.15,>=0.13 in /usr/local/lib/python3.11/dist-packages (from httpcore==1.*->httpx<1,>=0.23.0->openai<2.0.0,>=1.58.1->langchain-openai) (0.14.0)\n",
            "Requirement already satisfied: jsonpointer>=1.9 in /usr/local/lib/python3.11/dist-packages (from jsonpatch<2.0,>=1.33->langchain-core<1.0.0,>=0.3.39->langchain-openai) (3.0.0)\n",
            "Requirement already satisfied: orjson<4.0.0,>=3.9.14 in /usr/local/lib/python3.11/dist-packages (from langsmith<0.4,>=0.1.125->langchain-core<1.0.0,>=0.3.39->langchain-openai) (3.10.15)\n",
            "Requirement already satisfied: requests-toolbelt<2.0.0,>=1.0.0 in /usr/local/lib/python3.11/dist-packages (from langsmith<0.4,>=0.1.125->langchain-core<1.0.0,>=0.3.39->langchain-openai) (1.0.0)\n",
            "Requirement already satisfied: zstandard<0.24.0,>=0.23.0 in /usr/local/lib/python3.11/dist-packages (from langsmith<0.4,>=0.1.125->langchain-core<1.0.0,>=0.3.39->langchain-openai) (0.23.0)\n",
            "Requirement already satisfied: annotated-types>=0.6.0 in /usr/local/lib/python3.11/dist-packages (from pydantic<3.0.0,>=2.5.2->langchain-core<1.0.0,>=0.3.39->langchain-openai) (0.7.0)\n",
            "Requirement already satisfied: pydantic-core==2.27.2 in /usr/local/lib/python3.11/dist-packages (from pydantic<3.0.0,>=2.5.2->langchain-core<1.0.0,>=0.3.39->langchain-openai) (2.27.2)\n",
            "Requirement already satisfied: charset-normalizer<4,>=2 in /usr/local/lib/python3.11/dist-packages (from requests>=2.26.0->tiktoken<1,>=0.7->langchain-openai) (3.4.1)\n",
            "Requirement already satisfied: urllib3<3,>=1.21.1 in /usr/local/lib/python3.11/dist-packages (from requests>=2.26.0->tiktoken<1,>=0.7->langchain-openai) (2.3.0)\n",
            "Using cached tiktoken-0.9.0-cp311-cp311-manylinux_2_17_x86_64.manylinux2014_x86_64.whl (1.2 MB)\n",
            "Installing collected packages: tiktoken\n",
            "  Attempting uninstall: tiktoken\n",
            "    Found existing installation: tiktoken 0.4.0\n",
            "    Uninstalling tiktoken-0.4.0:\n",
            "      Successfully uninstalled tiktoken-0.4.0\n",
            "Successfully installed tiktoken-0.9.0\n"
          ]
        }
      ],
      "source": [
        "!pip install -q cassandra-driver\n",
        "!pip install -q langchain\n",
        "!pip install -q openai\n",
        "!pip install -q pypdf\n",
        "!pip install -q cassio>=0.1.1\n",
        "!pip install -q tiktoken==0.4.0\n",
        "!pip install langchain_community\n",
        "!pip install -U langchain-openai\n"
      ]
    },
    {
      "cell_type": "markdown",
      "source": [
        "Check the installed Versions"
      ],
      "metadata": {
        "id": "SppNRy9dnmMS"
      }
    },
    {
      "cell_type": "code",
      "source": [
        "import importlib\n",
        "import pkg_resources\n",
        "\n",
        "def check_package_version(package_name):\n",
        "    try:\n",
        "        module = importlib.import_module(package_name)\n",
        "        version = pkg_resources.get_distribution(package_name).version\n",
        "        print(f\"{package_name}: {version} (Installed Correctly)\")\n",
        "    except ImportError:\n",
        "        print(f\"{package_name} is NOT installed.\")\n",
        "    except pkg_resources.DistributionNotFound:\n",
        "        print(f\"{package_name} is installed but version information is not available.\")\n",
        "    except Exception as e:\n",
        "        print(f\"Error checking {package_name}: {e}\")\n",
        "\n",
        "packages = [\n",
        "    \"cassandra-driver\",\n",
        "    \"langchain\",\n",
        "    \"openai\",\n",
        "    \"pypdf\",\n",
        "    \"cassio\",\n",
        "    \"langchai_community\",\n",
        "    \"tiktoken\"\n",
        "]\n",
        "\n",
        "for package in packages:\n",
        "    check_package_version(package)\n"
      ],
      "metadata": {
        "colab": {
          "base_uri": "https://localhost:8080/"
        },
        "id": "thChY4XAnjtg",
        "outputId": "c0f48704-e8e6-47ed-c737-e97957bffb9b"
      },
      "execution_count": 2,
      "outputs": [
        {
          "output_type": "stream",
          "name": "stderr",
          "text": [
            "<ipython-input-2-bbabbb442c9f>:2: DeprecationWarning: pkg_resources is deprecated as an API. See https://setuptools.pypa.io/en/latest/pkg_resources.html\n",
            "  import pkg_resources\n"
          ]
        },
        {
          "output_type": "stream",
          "name": "stdout",
          "text": [
            "cassandra-driver is NOT installed.\n",
            "langchain: 0.3.20 (Installed Correctly)\n",
            "openai: 1.61.1 (Installed Correctly)\n",
            "pypdf: 5.3.1 (Installed Correctly)\n",
            "cassio: 0.1.10 (Installed Correctly)\n",
            "langchai_community is NOT installed.\n",
            "tiktoken: 0.9.0 (Installed Correctly)\n"
          ]
        }
      ]
    },
    {
      "cell_type": "markdown",
      "source": [
        "# Cassandra Import"
      ],
      "metadata": {
        "id": "Da6eP8eybgvN"
      }
    },
    {
      "cell_type": "code",
      "source": [
        "import cassandra\n",
        "print (cassandra.__version__)"
      ],
      "metadata": {
        "colab": {
          "base_uri": "https://localhost:8080/"
        },
        "id": "4r1nYVZ6LSqA",
        "outputId": "3487ffde-36c9-4ccb-bc2f-d2214cff2723"
      },
      "execution_count": 3,
      "outputs": [
        {
          "output_type": "stream",
          "name": "stdout",
          "text": [
            "3.29.2\n"
          ]
        }
      ]
    },
    {
      "cell_type": "code",
      "source": [
        "from cassandra.cluster import Cluster\n",
        "from cassandra.auth import PlainTextAuthProvider\n",
        "import json\n",
        "\n",
        "# This secure connect bundle is autogenerated when you donwload your SCB,\n",
        "# if yours is different update the file name below\n",
        "cloud_config= {\n",
        "  'secure_connect_bundle': '/content/secure-connect-pdf-qna.zip'\n",
        "}\n",
        "\n",
        "# This token json file is autogenerated when you donwload your token,\n",
        "# if yours is different update the file name below\n",
        "with open(\"/content/TokenAstra.json\") as f:\n",
        "    secrets = json.load(f)\n",
        "\n",
        "CLIENT_ID = secrets[\"clientId\"]\n",
        "CLIENT_SECRET = secrets[\"secret\"]\n",
        "\n",
        "auth_provider = PlainTextAuthProvider(CLIENT_ID, CLIENT_SECRET)\n",
        "cluster = Cluster(cloud=cloud_config, auth_provider=auth_provider)\n",
        "session = cluster.connect()\n",
        "\n",
        "row = session.execute(\"select release_version from system.local\").one()\n",
        "if row:\n",
        "  print(row[0])\n",
        "else:\n",
        "  print(\"An error occurred.\")"
      ],
      "metadata": {
        "colab": {
          "base_uri": "https://localhost:8080/"
        },
        "id": "PhgsFxAqLZyi",
        "outputId": "ccb66452-9dc0-42dd-c870-da1d4e262579"
      },
      "execution_count": 4,
      "outputs": [
        {
          "output_type": "stream",
          "name": "stderr",
          "text": [
            "WARNING:cassandra.cluster:Downgrading core protocol version from 66 to 65 for 9700e87e-3bcb-4a6d-a870-30222d65aaa4-us-east-2.db.astra.datastax.com:29042:678e6a1d-e5b1-3cba-b949-7bfaf823957f. To avoid this, it is best practice to explicitly set Cluster(protocol_version) to the version supported by your cluster. http://datastax.github.io/python-driver/api/cassandra/cluster.html#cassandra.cluster.Cluster.protocol_version\n",
            "WARNING:cassandra.cluster:Downgrading core protocol version from 65 to 5 for 9700e87e-3bcb-4a6d-a870-30222d65aaa4-us-east-2.db.astra.datastax.com:29042:678e6a1d-e5b1-3cba-b949-7bfaf823957f. To avoid this, it is best practice to explicitly set Cluster(protocol_version) to the version supported by your cluster. http://datastax.github.io/python-driver/api/cassandra/cluster.html#cassandra.cluster.Cluster.protocol_version\n",
            "WARNING:cassandra.cluster:Downgrading core protocol version from 5 to 4 for 9700e87e-3bcb-4a6d-a870-30222d65aaa4-us-east-2.db.astra.datastax.com:29042:678e6a1d-e5b1-3cba-b949-7bfaf823957f. To avoid this, it is best practice to explicitly set Cluster(protocol_version) to the version supported by your cluster. http://datastax.github.io/python-driver/api/cassandra/cluster.html#cassandra.cluster.Cluster.protocol_version\n"
          ]
        },
        {
          "output_type": "stream",
          "name": "stdout",
          "text": [
            "4.0.11-3f93fd6872a3\n"
          ]
        }
      ]
    },
    {
      "cell_type": "code",
      "source": [],
      "metadata": {
        "colab": {
          "base_uri": "https://localhost:8080/"
        },
        "id": "6scQU-SKoE8z",
        "outputId": "b1267e61-d93a-468a-9612-7522bdde7677"
      },
      "execution_count": 16,
      "outputs": [
        {
          "output_type": "stream",
          "name": "stdout",
          "text": [
            "Collecting langchain_community\n",
            "  Downloading langchain_community-0.3.19-py3-none-any.whl.metadata (2.4 kB)\n",
            "Collecting langchain-core<1.0.0,>=0.3.41 (from langchain_community)\n",
            "  Downloading langchain_core-0.3.41-py3-none-any.whl.metadata (5.9 kB)\n",
            "Collecting langchain<1.0.0,>=0.3.20 (from langchain_community)\n",
            "  Downloading langchain-0.3.20-py3-none-any.whl.metadata (7.7 kB)\n",
            "Requirement already satisfied: SQLAlchemy<3,>=1.4 in /usr/local/lib/python3.11/dist-packages (from langchain_community) (2.0.38)\n",
            "Requirement already satisfied: requests<3,>=2 in /usr/local/lib/python3.11/dist-packages (from langchain_community) (2.32.3)\n",
            "Requirement already satisfied: PyYAML>=5.3 in /usr/local/lib/python3.11/dist-packages (from langchain_community) (6.0.2)\n",
            "Requirement already satisfied: aiohttp<4.0.0,>=3.8.3 in /usr/local/lib/python3.11/dist-packages (from langchain_community) (3.11.13)\n",
            "Requirement already satisfied: tenacity!=8.4.0,<10,>=8.1.0 in /usr/local/lib/python3.11/dist-packages (from langchain_community) (9.0.0)\n",
            "Collecting dataclasses-json<0.7,>=0.5.7 (from langchain_community)\n",
            "  Downloading dataclasses_json-0.6.7-py3-none-any.whl.metadata (25 kB)\n",
            "Collecting pydantic-settings<3.0.0,>=2.4.0 (from langchain_community)\n",
            "  Downloading pydantic_settings-2.8.1-py3-none-any.whl.metadata (3.5 kB)\n",
            "Requirement already satisfied: langsmith<0.4,>=0.1.125 in /usr/local/lib/python3.11/dist-packages (from langchain_community) (0.3.11)\n",
            "Collecting httpx-sse<1.0.0,>=0.4.0 (from langchain_community)\n",
            "  Downloading httpx_sse-0.4.0-py3-none-any.whl.metadata (9.0 kB)\n",
            "Requirement already satisfied: numpy<3,>=1.26.2 in /usr/local/lib/python3.11/dist-packages (from langchain_community) (1.26.4)\n",
            "Requirement already satisfied: aiohappyeyeballs>=2.3.0 in /usr/local/lib/python3.11/dist-packages (from aiohttp<4.0.0,>=3.8.3->langchain_community) (2.4.6)\n",
            "Requirement already satisfied: aiosignal>=1.1.2 in /usr/local/lib/python3.11/dist-packages (from aiohttp<4.0.0,>=3.8.3->langchain_community) (1.3.2)\n",
            "Requirement already satisfied: attrs>=17.3.0 in /usr/local/lib/python3.11/dist-packages (from aiohttp<4.0.0,>=3.8.3->langchain_community) (25.1.0)\n",
            "Requirement already satisfied: frozenlist>=1.1.1 in /usr/local/lib/python3.11/dist-packages (from aiohttp<4.0.0,>=3.8.3->langchain_community) (1.5.0)\n",
            "Requirement already satisfied: multidict<7.0,>=4.5 in /usr/local/lib/python3.11/dist-packages (from aiohttp<4.0.0,>=3.8.3->langchain_community) (6.1.0)\n",
            "Requirement already satisfied: propcache>=0.2.0 in /usr/local/lib/python3.11/dist-packages (from aiohttp<4.0.0,>=3.8.3->langchain_community) (0.3.0)\n",
            "Requirement already satisfied: yarl<2.0,>=1.17.0 in /usr/local/lib/python3.11/dist-packages (from aiohttp<4.0.0,>=3.8.3->langchain_community) (1.18.3)\n",
            "Collecting marshmallow<4.0.0,>=3.18.0 (from dataclasses-json<0.7,>=0.5.7->langchain_community)\n",
            "  Downloading marshmallow-3.26.1-py3-none-any.whl.metadata (7.3 kB)\n",
            "Collecting typing-inspect<1,>=0.4.0 (from dataclasses-json<0.7,>=0.5.7->langchain_community)\n",
            "  Downloading typing_inspect-0.9.0-py3-none-any.whl.metadata (1.5 kB)\n",
            "Requirement already satisfied: langchain-text-splitters<1.0.0,>=0.3.6 in /usr/local/lib/python3.11/dist-packages (from langchain<1.0.0,>=0.3.20->langchain_community) (0.3.6)\n",
            "Requirement already satisfied: pydantic<3.0.0,>=2.7.4 in /usr/local/lib/python3.11/dist-packages (from langchain<1.0.0,>=0.3.20->langchain_community) (2.10.6)\n",
            "Requirement already satisfied: jsonpatch<2.0,>=1.33 in /usr/local/lib/python3.11/dist-packages (from langchain-core<1.0.0,>=0.3.41->langchain_community) (1.33)\n",
            "Requirement already satisfied: packaging<25,>=23.2 in /usr/local/lib/python3.11/dist-packages (from langchain-core<1.0.0,>=0.3.41->langchain_community) (24.2)\n",
            "Requirement already satisfied: typing-extensions>=4.7 in /usr/local/lib/python3.11/dist-packages (from langchain-core<1.0.0,>=0.3.41->langchain_community) (4.12.2)\n",
            "Requirement already satisfied: httpx<1,>=0.23.0 in /usr/local/lib/python3.11/dist-packages (from langsmith<0.4,>=0.1.125->langchain_community) (0.28.1)\n",
            "Requirement already satisfied: orjson<4.0.0,>=3.9.14 in /usr/local/lib/python3.11/dist-packages (from langsmith<0.4,>=0.1.125->langchain_community) (3.10.15)\n",
            "Requirement already satisfied: requests-toolbelt<2.0.0,>=1.0.0 in /usr/local/lib/python3.11/dist-packages (from langsmith<0.4,>=0.1.125->langchain_community) (1.0.0)\n",
            "Requirement already satisfied: zstandard<0.24.0,>=0.23.0 in /usr/local/lib/python3.11/dist-packages (from langsmith<0.4,>=0.1.125->langchain_community) (0.23.0)\n",
            "Collecting python-dotenv>=0.21.0 (from pydantic-settings<3.0.0,>=2.4.0->langchain_community)\n",
            "  Downloading python_dotenv-1.0.1-py3-none-any.whl.metadata (23 kB)\n",
            "Requirement already satisfied: charset-normalizer<4,>=2 in /usr/local/lib/python3.11/dist-packages (from requests<3,>=2->langchain_community) (3.4.1)\n",
            "Requirement already satisfied: idna<4,>=2.5 in /usr/local/lib/python3.11/dist-packages (from requests<3,>=2->langchain_community) (3.10)\n",
            "Requirement already satisfied: urllib3<3,>=1.21.1 in /usr/local/lib/python3.11/dist-packages (from requests<3,>=2->langchain_community) (2.3.0)\n",
            "Requirement already satisfied: certifi>=2017.4.17 in /usr/local/lib/python3.11/dist-packages (from requests<3,>=2->langchain_community) (2025.1.31)\n",
            "Requirement already satisfied: greenlet!=0.4.17 in /usr/local/lib/python3.11/dist-packages (from SQLAlchemy<3,>=1.4->langchain_community) (3.1.1)\n",
            "Requirement already satisfied: anyio in /usr/local/lib/python3.11/dist-packages (from httpx<1,>=0.23.0->langsmith<0.4,>=0.1.125->langchain_community) (3.7.1)\n",
            "Requirement already satisfied: httpcore==1.* in /usr/local/lib/python3.11/dist-packages (from httpx<1,>=0.23.0->langsmith<0.4,>=0.1.125->langchain_community) (1.0.7)\n",
            "Requirement already satisfied: h11<0.15,>=0.13 in /usr/local/lib/python3.11/dist-packages (from httpcore==1.*->httpx<1,>=0.23.0->langsmith<0.4,>=0.1.125->langchain_community) (0.14.0)\n",
            "Requirement already satisfied: jsonpointer>=1.9 in /usr/local/lib/python3.11/dist-packages (from jsonpatch<2.0,>=1.33->langchain-core<1.0.0,>=0.3.41->langchain_community) (3.0.0)\n",
            "Requirement already satisfied: annotated-types>=0.6.0 in /usr/local/lib/python3.11/dist-packages (from pydantic<3.0.0,>=2.7.4->langchain<1.0.0,>=0.3.20->langchain_community) (0.7.0)\n",
            "Requirement already satisfied: pydantic-core==2.27.2 in /usr/local/lib/python3.11/dist-packages (from pydantic<3.0.0,>=2.7.4->langchain<1.0.0,>=0.3.20->langchain_community) (2.27.2)\n",
            "Collecting mypy-extensions>=0.3.0 (from typing-inspect<1,>=0.4.0->dataclasses-json<0.7,>=0.5.7->langchain_community)\n",
            "  Downloading mypy_extensions-1.0.0-py3-none-any.whl.metadata (1.1 kB)\n",
            "Requirement already satisfied: sniffio>=1.1 in /usr/local/lib/python3.11/dist-packages (from anyio->httpx<1,>=0.23.0->langsmith<0.4,>=0.1.125->langchain_community) (1.3.1)\n",
            "Downloading langchain_community-0.3.19-py3-none-any.whl (2.5 MB)\n",
            "\u001b[2K   \u001b[90m━━━━━━━━━━━━━━━━━━━━━━━━━━━━━━━━━━━━━━━━\u001b[0m \u001b[32m2.5/2.5 MB\u001b[0m \u001b[31m21.3 MB/s\u001b[0m eta \u001b[36m0:00:00\u001b[0m\n",
            "\u001b[?25hDownloading dataclasses_json-0.6.7-py3-none-any.whl (28 kB)\n",
            "Downloading httpx_sse-0.4.0-py3-none-any.whl (7.8 kB)\n",
            "Downloading langchain-0.3.20-py3-none-any.whl (1.0 MB)\n",
            "\u001b[2K   \u001b[90m━━━━━━━━━━━━━━━━━━━━━━━━━━━━━━━━━━━━━━━━\u001b[0m \u001b[32m1.0/1.0 MB\u001b[0m \u001b[31m24.7 MB/s\u001b[0m eta \u001b[36m0:00:00\u001b[0m\n",
            "\u001b[?25hDownloading langchain_core-0.3.41-py3-none-any.whl (415 kB)\n",
            "\u001b[2K   \u001b[90m━━━━━━━━━━━━━━━━━━━━━━━━━━━━━━━━━━━━━━━━\u001b[0m \u001b[32m415.1/415.1 kB\u001b[0m \u001b[31m22.6 MB/s\u001b[0m eta \u001b[36m0:00:00\u001b[0m\n",
            "\u001b[?25hDownloading pydantic_settings-2.8.1-py3-none-any.whl (30 kB)\n",
            "Downloading marshmallow-3.26.1-py3-none-any.whl (50 kB)\n",
            "\u001b[2K   \u001b[90m━━━━━━━━━━━━━━━━━━━━━━━━━━━━━━━━━━━━━━━━\u001b[0m \u001b[32m50.9/50.9 kB\u001b[0m \u001b[31m1.6 MB/s\u001b[0m eta \u001b[36m0:00:00\u001b[0m\n",
            "\u001b[?25hDownloading python_dotenv-1.0.1-py3-none-any.whl (19 kB)\n",
            "Downloading typing_inspect-0.9.0-py3-none-any.whl (8.8 kB)\n",
            "Downloading mypy_extensions-1.0.0-py3-none-any.whl (4.7 kB)\n",
            "Installing collected packages: python-dotenv, mypy-extensions, marshmallow, httpx-sse, typing-inspect, pydantic-settings, dataclasses-json, langchain-core, langchain, langchain_community\n",
            "  Attempting uninstall: langchain-core\n",
            "    Found existing installation: langchain-core 0.3.40\n",
            "    Uninstalling langchain-core-0.3.40:\n",
            "      Successfully uninstalled langchain-core-0.3.40\n",
            "  Attempting uninstall: langchain\n",
            "    Found existing installation: langchain 0.3.19\n",
            "    Uninstalling langchain-0.3.19:\n",
            "      Successfully uninstalled langchain-0.3.19\n",
            "Successfully installed dataclasses-json-0.6.7 httpx-sse-0.4.0 langchain-0.3.20 langchain-core-0.3.41 langchain_community-0.3.19 marshmallow-3.26.1 mypy-extensions-1.0.0 pydantic-settings-2.8.1 python-dotenv-1.0.1 typing-inspect-0.9.0\n"
          ]
        }
      ]
    },
    {
      "cell_type": "markdown",
      "source": [
        "# Import"
      ],
      "metadata": {
        "id": "2n1p4K1Eag5m"
      }
    },
    {
      "cell_type": "code",
      "source": [
        "from langchain.llms.openai import OpenAI\n",
        "from langchain.llms.openai import OpenAI\n",
        "from langchain.embeddings import OpenAIEmbeddings\n",
        "from langchain_openai import OpenAI, OpenAIEmbeddings\n",
        "\n",
        "from langchain.vectorstores.cassandra import Cassandra\n",
        "from langchain.indexes import VectorstoreIndexCreator\n",
        "from langchain.text_splitter import (\n",
        "    CharacterTextSplitter,\n",
        "    RecursiveCharacterTextSplitter,\n",
        ")\n",
        "from langchain.docstore.document import Document\n",
        "from langchain.document_loaders import TextLoader, PyPDFLoader"
      ],
      "metadata": {
        "id": "ADMuR4uFM7ja"
      },
      "execution_count": 10,
      "outputs": []
    },
    {
      "cell_type": "markdown",
      "source": [
        "# OS Import"
      ],
      "metadata": {
        "id": "D_w7l_uvamfM"
      }
    },
    {
      "cell_type": "code",
      "source": [
        "import os\n",
        "import getpass\n",
        "\n",
        "api_key = getpass.getpass(\"Enter your OpenAI API Key: \").strip()\n",
        "\n",
        "if api_key:\n",
        "    os.environ['OPENAI_API_KEY'] = api_key\n",
        "    print(\"✅ API Key set successfully!\")\n",
        "else:\n",
        "    print(\"❌ Failed to set API Key. Please enter a valid key.\")\n"
      ],
      "metadata": {
        "id": "QoOUr-9-Yfrj",
        "colab": {
          "base_uri": "https://localhost:8080/"
        },
        "outputId": "9b5d01c8-22fb-4840-c50d-34deb6e023c6"
      },
      "execution_count": 11,
      "outputs": [
        {
          "output_type": "stream",
          "name": "stdout",
          "text": [
            "Enter your OpenAI API Key: ··········\n",
            "✅ API Key set successfully!\n"
          ]
        }
      ]
    },
    {
      "cell_type": "markdown",
      "source": [
        "# Initialization"
      ],
      "metadata": {
        "id": "mEUSrKwVbmsL"
      }
    },
    {
      "cell_type": "code",
      "source": [
        "llm = OpenAI(temperature=0)\n",
        "openai_embeddings = OpenAIEmbeddings()"
      ],
      "metadata": {
        "id": "3d0bZ5WPNn5w"
      },
      "execution_count": 12,
      "outputs": []
    },
    {
      "cell_type": "code",
      "source": [
        "table_name = 'pdf_q_n_a_table_1'\n",
        "keyspace = \"pdf_q_n_a_test\"\n",
        "\n",
        "index_creator = VectorstoreIndexCreator(\n",
        "    vectorstore_cls = Cassandra,\n",
        "    embedding = openai_embeddings,\n",
        "    text_splitter = RecursiveCharacterTextSplitter(\n",
        "        chunk_size = 400,\n",
        "        chunk_overlap = 30,\n",
        "    ),\n",
        "\n",
        "    vectorstore_kwargs={\n",
        "        'session': session,\n",
        "        'keyspace': keyspace,\n",
        "        'table_name': table_name,\n",
        "    },\n",
        ")"
      ],
      "metadata": {
        "id": "G5fK-rJMNsV3"
      },
      "execution_count": 27,
      "outputs": []
    },
    {
      "cell_type": "markdown",
      "source": [
        "# Loading PDF"
      ],
      "metadata": {
        "id": "6B-Hbuskbqu5"
      }
    },
    {
      "cell_type": "code",
      "source": [
        "loader = PyPDFLoader(\"/test.pdf\")\n",
        "pages = loader.load_and_split()"
      ],
      "metadata": {
        "id": "MBGnWIuPN54d",
        "colab": {
          "base_uri": "https://localhost:8080/"
        },
        "outputId": "8cd10cf8-91e3-4c34-f83c-e02a81134bc1"
      },
      "execution_count": 28,
      "outputs": [
        {
          "output_type": "stream",
          "name": "stderr",
          "text": [
            "WARNING:pypdf._reader:Ignoring wrong pointing object 69 0 (offset 0)\n",
            "WARNING:pypdf._reader:Ignoring wrong pointing object 71 0 (offset 0)\n",
            "WARNING:pypdf._reader:Ignoring wrong pointing object 74 0 (offset 0)\n",
            "WARNING:pypdf._reader:Ignoring wrong pointing object 77 0 (offset 0)\n",
            "WARNING:pypdf._reader:Ignoring wrong pointing object 79 0 (offset 0)\n",
            "WARNING:pypdf._reader:Ignoring wrong pointing object 84 0 (offset 0)\n",
            "WARNING:pypdf._reader:Ignoring wrong pointing object 87 0 (offset 0)\n",
            "WARNING:pypdf._reader:Ignoring wrong pointing object 100 0 (offset 0)\n",
            "WARNING:pypdf._reader:Ignoring wrong pointing object 102 0 (offset 0)\n",
            "WARNING:pypdf._reader:Ignoring wrong pointing object 104 0 (offset 0)\n",
            "WARNING:pypdf._reader:Ignoring wrong pointing object 107 0 (offset 0)\n",
            "WARNING:pypdf._reader:Ignoring wrong pointing object 113 0 (offset 0)\n",
            "WARNING:pypdf._reader:Ignoring wrong pointing object 123 0 (offset 0)\n",
            "WARNING:pypdf._reader:Ignoring wrong pointing object 125 0 (offset 0)\n",
            "WARNING:pypdf._reader:Ignoring wrong pointing object 127 0 (offset 0)\n",
            "WARNING:pypdf._reader:Ignoring wrong pointing object 129 0 (offset 0)\n",
            "WARNING:pypdf._reader:Ignoring wrong pointing object 162 0 (offset 0)\n",
            "WARNING:pypdf._reader:Ignoring wrong pointing object 163 0 (offset 0)\n"
          ]
        }
      ]
    },
    {
      "cell_type": "code",
      "source": [
        "len(pages)"
      ],
      "metadata": {
        "colab": {
          "base_uri": "https://localhost:8080/"
        },
        "id": "9l2NikV3cMq2",
        "outputId": "90e1e796-72b7-49af-9dea-3a1b18b63553"
      },
      "execution_count": 24,
      "outputs": [
        {
          "output_type": "execute_result",
          "data": {
            "text/plain": [
              "15"
            ]
          },
          "metadata": {},
          "execution_count": 24
        }
      ]
    },
    {
      "cell_type": "code",
      "source": [
        "pages[1]"
      ],
      "metadata": {
        "colab": {
          "base_uri": "https://localhost:8080/"
        },
        "id": "WjjRWKrIOF-u",
        "outputId": "ec149f22-06e7-44de-8c76-260182590da9"
      },
      "execution_count": 25,
      "outputs": [
        {
          "output_type": "execute_result",
          "data": {
            "text/plain": [
              "Document(metadata={'producer': 'macOS Version 15.3.1 (Build 24D70) Quartz PDFContext', 'creator': 'PyPDF', 'creationdate': \"D:20250305055202Z00'00'\", 'moddate': \"D:20250305055202Z00'00'\", 'source': '/test.pdf', 'total_pages': 15, 'page': 1, 'page_label': '2'}, page_content='___________________________________________________________________________________                            \\n \\nNgoba Village, Lango Geog, Paro: Bhutan. Tel:(+975 8)2729289 /272992, 17111980 Fax :8)272993 \\n   Email: reservations@naksel.com, Website: www.naksel.com \\na. Agent: a person employed to make reservation for the guest or a person \\ncontracted by the guest to make reservations for him/her/ them. \\nb. Full deposit: the deposit to be made by the agent, which includes the room \\ncharge(s), food charge(s) and applicable taxes for the reserved duration of \\nstay in the hotel in advance at the time of booking. \\nc. High season: The months of March, April, May, September, October and \\nNovember. \\nd. Low season: Rest of the months. \\n  \\nTerms and Conditions: \\n  \\n1. The agents reserving the rooms shall make full deposits 2 (two) months \\nprior to the date of arrival of their guest at the time of booking. \\n2. The confirmation of number of rooms shall be made by the hotel, upon \\nreceiving request for reservation from the agents. Such confirmation shall \\nbe communicated through accepted procedure, and it shall be subject to \\nthe availability of rooms. \\n3. The agents shall inform the hotel management immediately on any kind of \\nchanges, so that other agents on waiting list can be accommodated. \\n4. The agents shall be contracted if the hotel management gets any query for \\nthe reservation on dates over lapping your reservation dates till the \\nadvance is deposited as per clause given above. The hotel management \\nreserves the right to allot rooms to other agents of the above stated \\ndeposit is not made on time. \\n5. All correspondence concerning reservation or cancellation has to be made \\nin writing. \\n6. Hotel management shall levy cancellation charges as follows: \\n  \\nA) High Season \\n  \\nCancellation made within 45 days from the date of arrival: 50% \\n Cancellation made within 30 days from the date of arrival: 100% \\n  \\nB) Low Season \\n  \\nCancellation made within 30 days from the date of arrival: 50% \\n Cancellation made within 15 days from the date of arrival: 100% \\n \\nTashi Delek! \\nNaksel Management')"
            ]
          },
          "metadata": {},
          "execution_count": 25
        }
      ]
    },
    {
      "cell_type": "markdown",
      "source": [
        "# Load to Index"
      ],
      "metadata": {
        "id": "Httloa3fcRpH"
      }
    },
    {
      "cell_type": "code",
      "source": [
        "pdf_index = index_creator.from_loaders([loader])"
      ],
      "metadata": {
        "id": "fLrsEXlkOZmb",
        "colab": {
          "base_uri": "https://localhost:8080/"
        },
        "outputId": "ada54c61-ff17-4810-ddcf-3d373fa51a92"
      },
      "execution_count": 29,
      "outputs": [
        {
          "output_type": "stream",
          "name": "stderr",
          "text": [
            "WARNING:pypdf._reader:Ignoring wrong pointing object 69 0 (offset 0)\n",
            "WARNING:pypdf._reader:Ignoring wrong pointing object 71 0 (offset 0)\n",
            "WARNING:pypdf._reader:Ignoring wrong pointing object 74 0 (offset 0)\n",
            "WARNING:pypdf._reader:Ignoring wrong pointing object 77 0 (offset 0)\n",
            "WARNING:pypdf._reader:Ignoring wrong pointing object 79 0 (offset 0)\n",
            "WARNING:pypdf._reader:Ignoring wrong pointing object 84 0 (offset 0)\n",
            "WARNING:pypdf._reader:Ignoring wrong pointing object 87 0 (offset 0)\n",
            "WARNING:pypdf._reader:Ignoring wrong pointing object 100 0 (offset 0)\n",
            "WARNING:pypdf._reader:Ignoring wrong pointing object 102 0 (offset 0)\n",
            "WARNING:pypdf._reader:Ignoring wrong pointing object 104 0 (offset 0)\n",
            "WARNING:pypdf._reader:Ignoring wrong pointing object 107 0 (offset 0)\n",
            "WARNING:pypdf._reader:Ignoring wrong pointing object 113 0 (offset 0)\n",
            "WARNING:pypdf._reader:Ignoring wrong pointing object 123 0 (offset 0)\n",
            "WARNING:pypdf._reader:Ignoring wrong pointing object 125 0 (offset 0)\n",
            "WARNING:pypdf._reader:Ignoring wrong pointing object 127 0 (offset 0)\n",
            "WARNING:pypdf._reader:Ignoring wrong pointing object 129 0 (offset 0)\n",
            "WARNING:pypdf._reader:Ignoring wrong pointing object 162 0 (offset 0)\n",
            "WARNING:pypdf._reader:Ignoring wrong pointing object 163 0 (offset 0)\n"
          ]
        }
      ]
    },
    {
      "cell_type": "code",
      "source": [
        "default_query = f'SELECT * FROM {keyspace}.{table_name}'\n",
        "\n",
        "rows = session.execute(default_query)\n",
        "\n",
        "for row_i, row in enumerate(rows):\n",
        "    print(f'\\nRow {row_i}:')\n",
        "    print(f'row_id: {row.row_id}')\n",
        "    print(f'embedding_vector: {str(row.vector)[:64]} ...')\n",
        "    print(f'body_blob: {row.body_blob[:64]} ...')\n",
        "    print(f'metadata_blob: {row.metadata_s}')\n",
        "\n",
        "print('\\n...')"
      ],
      "metadata": {
        "colab": {
          "base_uri": "https://localhost:8080/"
        },
        "id": "tQrEY9i7Oc9W",
        "outputId": "393ca18e-188c-4d03-d2ef-2e616875550a"
      },
      "execution_count": 30,
      "outputs": [
        {
          "output_type": "stream",
          "name": "stdout",
          "text": [
            "\n",
            "Row 0:\n",
            "row_id: 7818b9fbc9b847aa895115c7a51b5ca7\n",
            "embedding_vector: [0.024553582072257996, 0.018064232543110847, 0.00553581304848194 ...\n",
            "body_blob: Check in - Check out Terms & Conditions\n",
            "Check-in time: 13:00 hrs ...\n",
            "metadata_blob: {'creationdate': \"D:20250305055202Z00'00'\", 'creator': 'PyPDF', 'moddate': \"D:20250305055202Z00'00'\", 'page': '6.0', 'page_label': '7', 'producer': 'macOS Version 15.3.1 (Build 24D70) Quartz PDFContext', 'source': '/test.pdf', 'total_pages': '15.0'}\n",
            "\n",
            "Row 1:\n",
            "row_id: ca323136add54c0da635df7a99163fd4\n",
            "embedding_vector: [0.022329911589622498, 0.009975356981158257, -0.0137701127678155 ...\n",
            "body_blob: Children 12 years and above: They are charged full price for mea ...\n",
            "metadata_blob: {'creationdate': \"D:20250305055202Z00'00'\", 'creator': 'PyPDF', 'moddate': \"D:20250305055202Z00'00'\", 'page': '4.0', 'page_label': '5', 'producer': 'macOS Version 15.3.1 (Build 24D70) Quartz PDFContext', 'source': '/test.pdf', 'total_pages': '15.0'}\n",
            "\n",
            "Row 2:\n",
            "row_id: 6ced3066d43d42c2a7e497cf9fcbd7c9\n",
            "embedding_vector: [0.008968244306743145, -0.0038616047240793705, 0.013455695472657 ...\n",
            "body_blob: Email: yangkhilreservation@gmail.com \n",
            "yangkhilresort@gmail.com \n",
            " ...\n",
            "metadata_blob: {'creationdate': \"D:20250305055202Z00'00'\", 'creator': 'PyPDF', 'moddate': \"D:20250305055202Z00'00'\", 'page': '9.0', 'page_label': '10', 'producer': 'macOS Version 15.3.1 (Build 24D70) Quartz PDFContext', 'source': '/test.pdf', 'total_pages': '15.0'}\n",
            "\n",
            "Row 3:\n",
            "row_id: fabcb8e3d5f040ba9f58e9f9abf10147\n",
            "embedding_vector: [0.004206909332424402, -0.00284078367985785, 0.00154701259452849 ...\n",
            "body_blob: Under Vest 50.00   Dupatta/Scart 35.00 \n",
            "  Underpant 50.00   Bras ...\n",
            "metadata_blob: {'creationdate': \"D:20250305055202Z00'00'\", 'creator': 'PyPDF', 'moddate': \"D:20250305055202Z00'00'\", 'page': '11.0', 'page_label': '12', 'producer': 'macOS Version 15.3.1 (Build 24D70) Quartz PDFContext', 'source': '/test.pdf', 'total_pages': '15.0'}\n",
            "\n",
            "Row 4:\n",
            "row_id: 375680769cc74d7c9aa94d08d730bb0b\n",
            "embedding_vector: [-0.007551261223852634, 0.007296648807823658, -0.001207732711918 ...\n",
            "body_blob: Cocktail Lounge\n",
            "Yoga/Meditation Hall\n",
            "The new Yoga and Meditation ...\n",
            "metadata_blob: {'creationdate': \"D:20250305055202Z00'00'\", 'creator': 'PyPDF', 'moddate': \"D:20250305055202Z00'00'\", 'page': '13.0', 'page_label': '14', 'producer': 'macOS Version 15.3.1 (Build 24D70) Quartz PDFContext', 'source': '/test.pdf', 'total_pages': '15.0'}\n",
            "\n",
            "Row 5:\n",
            "row_id: 221f8d6d9a974db5a057892a23e69e45\n",
            "embedding_vector: [0.009384757839143276, 0.001524692284874618, -0.0007594506023451 ...\n",
            "body_blob: Terms and Conditions: \n",
            "  \n",
            "1. The agents reserving the rooms shal ...\n",
            "metadata_blob: {'creationdate': \"D:20250305055202Z00'00'\", 'creator': 'PyPDF', 'moddate': \"D:20250305055202Z00'00'\", 'page': '1.0', 'page_label': '2', 'producer': 'macOS Version 15.3.1 (Build 24D70) Quartz PDFContext', 'source': '/test.pdf', 'total_pages': '15.0'}\n",
            "\n",
            "Row 6:\n",
            "row_id: b6cd8484468346e58addb16484aee9af\n",
            "embedding_vector: [0.007358571048825979, -0.009433381259441376, -0.004019527696073 ...\n",
            "body_blob: reserves the right to allot rooms to other agents of the above s ...\n",
            "metadata_blob: {'creationdate': \"D:20250305055202Z00'00'\", 'creator': 'PyPDF', 'moddate': \"D:20250305055202Z00'00'\", 'page': '1.0', 'page_label': '2', 'producer': 'macOS Version 15.3.1 (Build 24D70) Quartz PDFContext', 'source': '/test.pdf', 'total_pages': '15.0'}\n",
            "\n",
            "Row 7:\n",
            "row_id: 2383656a3bf04314bcf277b537d46877\n",
            "embedding_vector: [-0.026756158098578453, -0.012563137337565422, -0.00206995126791 ...\n",
            "body_blob: PHONE / WHATSAPP NUMBER\n",
            "+975 17166888\n",
            "+975 77166888\n",
            "willingbhuta ...\n",
            "metadata_blob: {'creationdate': \"D:20250305055202Z00'00'\", 'creator': 'PyPDF', 'moddate': \"D:20250305055202Z00'00'\", 'page': '8.0', 'page_label': '9', 'producer': 'macOS Version 15.3.1 (Build 24D70) Quartz PDFContext', 'source': '/test.pdf', 'total_pages': '15.0'}\n",
            "\n",
            "Row 8:\n",
            "row_id: c750baaf1e5245b5988b2a2a385c0944\n",
            "embedding_vector: [0.0032995659857988358, 0.010886509902775288, 0.0191525742411613 ...\n",
            "body_blob: The Hot Stone bath is uniquely BHUTANESE.\n",
            "The process entails co ...\n",
            "metadata_blob: {'creationdate': \"D:20250305055202Z00'00'\", 'creator': 'PyPDF', 'moddate': \"D:20250305055202Z00'00'\", 'page': '14.0', 'page_label': '15', 'producer': 'macOS Version 15.3.1 (Build 24D70) Quartz PDFContext', 'source': '/test.pdf', 'total_pages': '15.0'}\n",
            "\n",
            "Row 9:\n",
            "row_id: ee47b7af1dd94f0aa66ac71b5db804e9\n",
            "embedding_vector: [0.015016119927167892, 0.008957337588071823, -2.0770978608197765 ...\n",
            "body_blob: Deluxe Double 4,150 \n",
            " \n",
            "We offer Extra Mattress on demand with ad ...\n",
            "metadata_blob: {'creationdate': \"D:20250305055202Z00'00'\", 'creator': 'PyPDF', 'moddate': \"D:20250305055202Z00'00'\", 'page': '9.0', 'page_label': '10', 'producer': 'macOS Version 15.3.1 (Build 24D70) Quartz PDFContext', 'source': '/test.pdf', 'total_pages': '15.0'}\n",
            "\n",
            "Row 10:\n",
            "row_id: 65f48875a7c34c2b8e04475df8801d60\n",
            "embedding_vector: [0.008995726704597473, 0.008036002516746521, -0.0121114514768123 ...\n",
            "body_blob: 5.    We offer Agent discount from 10% up to 36% based on the ro ...\n",
            "metadata_blob: {'creationdate': \"D:20250305055202Z00'00'\", 'creator': 'PyPDF', 'moddate': \"D:20250305055202Z00'00'\", 'page': '4.0', 'page_label': '5', 'producer': 'macOS Version 15.3.1 (Build 24D70) Quartz PDFContext', 'source': '/test.pdf', 'total_pages': '15.0'}\n",
            "\n",
            "Row 11:\n",
            "row_id: 65a19131023d47f9ac5734fffcfbc26d\n",
            "embedding_vector: [-0.017545145004987717, 0.010577922686934471, -0.013282691128551 ...\n",
            "body_blob: Smoking is not allowed in all the suite rooms\n",
            "No personal alcoho ...\n",
            "metadata_blob: {'creationdate': \"D:20250305055202Z00'00'\", 'creator': 'PyPDF', 'moddate': \"D:20250305055202Z00'00'\", 'page': '6.0', 'page_label': '7', 'producer': 'macOS Version 15.3.1 (Build 24D70) Quartz PDFContext', 'source': '/test.pdf', 'total_pages': '15.0'}\n",
            "\n",
            "Row 12:\n",
            "row_id: a8db084e9d984ffabca7aad9fc9e56da\n",
            "embedding_vector: [0.009333153255283833, 3.5299017326906323e-05, 0.021012775599956 ...\n",
            "body_blob: Hot Lunch  Nu. 925 Per Person \n",
            " \n",
            "Group Size: 2 Pax** \n",
            " \n",
            "Breakfas ...\n",
            "metadata_blob: {'creationdate': \"D:20250305055202Z00'00'\", 'creator': 'PyPDF', 'moddate': \"D:20250305055202Z00'00'\", 'page': '10.0', 'page_label': '11', 'producer': 'macOS Version 15.3.1 (Build 24D70) Quartz PDFContext', 'source': '/test.pdf', 'total_pages': '15.0'}\n",
            "\n",
            "Row 13:\n",
            "row_id: 0b89b8a90e574038b37e768609bb87a9\n",
            "embedding_vector: [0.003268684260547161, 0.00625762389972806, -0.00358672742731869 ...\n",
            "body_blob: CHECK-IN / CHECK-OUT TIMING \n",
            " \n",
            "Check in time: After 1.00 P.M \n",
            "Ch ...\n",
            "metadata_blob: {'creationdate': \"D:20250305055202Z00'00'\", 'creator': 'PyPDF', 'moddate': \"D:20250305055202Z00'00'\", 'page': '9.0', 'page_label': '10', 'producer': 'macOS Version 15.3.1 (Build 24D70) Quartz PDFContext', 'source': '/test.pdf', 'total_pages': '15.0'}\n",
            "\n",
            "Row 14:\n",
            "row_id: 9ae3771dfa594da0ae7b54badbf022f4\n",
            "embedding_vector: [0.020685160532593727, 0.003913674503564835, -0.0046178083866834 ...\n",
            "body_blob: Cancellation Policy \n",
            " \n",
            "With us, you can make any number of chang ...\n",
            "metadata_blob: {'creationdate': \"D:20250305055202Z00'00'\", 'creator': 'PyPDF', 'moddate': \"D:20250305055202Z00'00'\", 'page': '9.0', 'page_label': '10', 'producer': 'macOS Version 15.3.1 (Build 24D70) Quartz PDFContext', 'source': '/test.pdf', 'total_pages': '15.0'}\n",
            "\n",
            "Row 15:\n",
            "row_id: a5fc1560d87a467881b41ec1281beff1\n",
            "embedding_vector: [-0.0044152089394629, 0.003310553031042218, 0.04980000481009483, ...\n",
            "body_blob: Manicure - Nu. 1000 (45 mins)\n",
            "Pedicure - Nu. 1,100 (1 hrs.)\n",
            "Trad ...\n",
            "metadata_blob: {'creationdate': \"D:20250305055202Z00'00'\", 'creator': 'PyPDF', 'moddate': \"D:20250305055202Z00'00'\", 'page': '14.0', 'page_label': '15', 'producer': 'macOS Version 15.3.1 (Build 24D70) Quartz PDFContext', 'source': '/test.pdf', 'total_pages': '15.0'}\n",
            "\n",
            "Row 16:\n",
            "row_id: cf5095378d0a4f4db323f3189342e3ec\n",
            "embedding_vector: [-0.000392752728657797, 0.003952866420149803, -0.009676076471805 ...\n",
            "body_blob: the room.\n",
            "THORI Lounge is strategically situated, offering a stu ...\n",
            "metadata_blob: {'creationdate': \"D:20250305055202Z00'00'\", 'creator': 'PyPDF', 'moddate': \"D:20250305055202Z00'00'\", 'page': '13.0', 'page_label': '14', 'producer': 'macOS Version 15.3.1 (Build 24D70) Quartz PDFContext', 'source': '/test.pdf', 'total_pages': '15.0'}\n",
            "\n",
            "Row 17:\n",
            "row_id: 388ecfd4478f4facb6837e9851a7c35c\n",
            "embedding_vector: [0.022128185257315636, 0.003848085878416896, 0.00903522502630949 ...\n",
            "body_blob: contracted by the guest to make reservations for him/her/ them.  ...\n",
            "metadata_blob: {'creationdate': \"D:20250305055202Z00'00'\", 'creator': 'PyPDF', 'moddate': \"D:20250305055202Z00'00'\", 'page': '1.0', 'page_label': '2', 'producer': 'macOS Version 15.3.1 (Build 24D70) Quartz PDFContext', 'source': '/test.pdf', 'total_pages': '15.0'}\n",
            "\n",
            "Row 18:\n",
            "row_id: dec101123613473fb9ab63b316cc9309\n",
            "embedding_vector: [0.010318958200514317, 0.0025524490047246218, 0.0280737299472093 ...\n",
            "body_blob: Payment Policy\n",
            "Cancellation Policy\n",
            "Cancellation within 60 days o ...\n",
            "metadata_blob: {'creationdate': \"D:20250305055202Z00'00'\", 'creator': 'PyPDF', 'moddate': \"D:20250305055202Z00'00'\", 'page': '7.0', 'page_label': '8', 'producer': 'macOS Version 15.3.1 (Build 24D70) Quartz PDFContext', 'source': '/test.pdf', 'total_pages': '15.0'}\n",
            "\n",
            "Row 19:\n",
            "row_id: eceee00b80ca4c60868f3126193b63cb\n",
            "embedding_vector: [0.019384849816560745, 0.007780863903462887, 0.01350881811231374 ...\n",
            "body_blob: Special instruction if any:________________________ \n",
            " \n",
            "DO NOT LE ...\n",
            "metadata_blob: {'creationdate': \"D:20250305055202Z00'00'\", 'creator': 'PyPDF', 'moddate': \"D:20250305055202Z00'00'\", 'page': '11.0', 'page_label': '12', 'producer': 'macOS Version 15.3.1 (Build 24D70) Quartz PDFContext', 'source': '/test.pdf', 'total_pages': '15.0'}\n",
            "\n",
            "Row 20:\n",
            "row_id: 9312adb954f54b6abc7ab8465c30f267\n",
            "embedding_vector: [0.00022359672584570944, -0.008637804538011551, -0.0093723582103 ...\n",
            "body_blob: 10% Bhutan Sales Tax and 10% Service Charge is applicable on the ...\n",
            "metadata_blob: {'creationdate': \"D:20250305055202Z00'00'\", 'creator': 'PyPDF', 'moddate': \"D:20250305055202Z00'00'\", 'page': '11.0', 'page_label': '12', 'producer': 'macOS Version 15.3.1 (Build 24D70) Quartz PDFContext', 'source': '/test.pdf', 'total_pages': '15.0'}\n",
            "\n",
            "Row 21:\n",
            "row_id: 16a5875bbf3244b1ae493a00e2eccbe5\n",
            "embedding_vector: [-0.0050755152478814125, 0.02256699651479721, 0.0182430278509855 ...\n",
            "body_blob: To enhance rejuvenation and  relaxation for our guests, we have  ...\n",
            "metadata_blob: {'creationdate': \"D:20250305055202Z00'00'\", 'creator': 'PyPDF', 'moddate': \"D:20250305055202Z00'00'\", 'page': '12.0', 'page_label': '13', 'producer': 'macOS Version 15.3.1 (Build 24D70) Quartz PDFContext', 'source': '/test.pdf', 'total_pages': '15.0'}\n",
            "\n",
            "Row 22:\n",
            "row_id: e27bf2c693e34ad294ba8a35497bfe93\n",
            "embedding_vector: [-0.0031032334081828594, 0.014020117931067944, 0.008856611326336 ...\n",
            "body_blob: Group name, Nationality, types of room (check in & check out dat ...\n",
            "metadata_blob: {'creationdate': \"D:20250305055202Z00'00'\", 'creator': 'PyPDF', 'moddate': \"D:20250305055202Z00'00'\", 'page': '6.0', 'page_label': '7', 'producer': 'macOS Version 15.3.1 (Build 24D70) Quartz PDFContext', 'source': '/test.pdf', 'total_pages': '15.0'}\n",
            "\n",
            "Row 23:\n",
            "row_id: 378caee0a9d64bdda0ab4dd94ce7508e\n",
            "embedding_vector: [0.012815299443900585, 0.012368177995085716, -0.0054082009010016 ...\n",
            "body_blob: Bhutan Sales Tax & Breakfast \n",
            " One child of 5 years and below c ...\n",
            "metadata_blob: {'creationdate': \"D:20250305055202Z00'00'\", 'creator': 'PyPDF', 'moddate': \"D:20250305055202Z00'00'\", 'page': '0.0', 'page_label': '1', 'producer': 'macOS Version 15.3.1 (Build 24D70) Quartz PDFContext', 'source': '/test.pdf', 'total_pages': '15.0'}\n",
            "\n",
            "Row 24:\n",
            "row_id: fb0f5e18dc2645f5ac3896c01d17a75a\n",
            "embedding_vector: [0.00640365295112133, 0.0015471635852009058, 0.00815010350197553 ...\n",
            "body_blob: Room Category Single Occupancy Double occupancy\n",
            "Juniour Suite $2 ...\n",
            "metadata_blob: {'creationdate': \"D:20250305055202Z00'00'\", 'creator': 'PyPDF', 'moddate': \"D:20250305055202Z00'00'\", 'page': '3.0', 'page_label': '4', 'producer': 'macOS Version 15.3.1 (Build 24D70) Quartz PDFContext', 'source': '/test.pdf', 'total_pages': '15.0'}\n",
            "\n",
            "Row 25:\n",
            "row_id: cacdfcefc72449eebf3293b5ee64d7ef\n",
            "embedding_vector: [0.015528758987784386, -0.0013409096281975508, 0.011778840795159 ...\n",
            "body_blob: Lunch   Nu. 625 Per person \n",
            "   Dinner   Nu. 655 Per person \n",
            "   P ...\n",
            "metadata_blob: {'creationdate': \"D:20250305055202Z00'00'\", 'creator': 'PyPDF', 'moddate': \"D:20250305055202Z00'00'\", 'page': '10.0', 'page_label': '11', 'producer': 'macOS Version 15.3.1 (Build 24D70) Quartz PDFContext', 'source': '/test.pdf', 'total_pages': '15.0'}\n",
            "\n",
            "Row 26:\n",
            "row_id: 61046c9934cb407abcc4995410563a02\n",
            "embedding_vector: [-0.02700050361454487, -0.0037449777591973543, 0.015163231641054 ...\n",
            "body_blob: defects viz. damage or discoloration \n",
            "of the garments. ...\n",
            "metadata_blob: {'creationdate': \"D:20250305055202Z00'00'\", 'creator': 'PyPDF', 'moddate': \"D:20250305055202Z00'00'\", 'page': '11.0', 'page_label': '12', 'producer': 'macOS Version 15.3.1 (Build 24D70) Quartz PDFContext', 'source': '/test.pdf', 'total_pages': '15.0'}\n",
            "\n",
            "Row 27:\n",
            "row_id: cafa1ce740b04b2583a39b1ce4dd333e\n",
            "embedding_vector: [0.002735209185630083, -0.010201768949627876, -0.000693700509145 ...\n",
            "body_blob: 3. Every room has TV with Cable Connection, safe deposit box and ...\n",
            "metadata_blob: {'creationdate': \"D:20250305055202Z00'00'\", 'creator': 'PyPDF', 'moddate': \"D:20250305055202Z00'00'\", 'page': '0.0', 'page_label': '1', 'producer': 'macOS Version 15.3.1 (Build 24D70) Quartz PDFContext', 'source': '/test.pdf', 'total_pages': '15.0'}\n",
            "\n",
            "Row 28:\n",
            "row_id: ee6096ad6ad946aa994bc10d4f51e3dc\n",
            "embedding_vector: [-0.005665441043674946, 0.023571493104100227, 0.0028972162399441 ...\n",
            "body_blob: Rates\n",
            " \n",
            "    All rates are quoted in USD per night depending on t ...\n",
            "metadata_blob: {'creationdate': \"D:20250305055202Z00'00'\", 'creator': 'PyPDF', 'moddate': \"D:20250305055202Z00'00'\", 'page': '4.0', 'page_label': '5', 'producer': 'macOS Version 15.3.1 (Build 24D70) Quartz PDFContext', 'source': '/test.pdf', 'total_pages': '15.0'}\n",
            "\n",
            "Row 29:\n",
            "row_id: b733adeb00564b0d8b88f26e88982807\n",
            "embedding_vector: [0.004550027661025524, 0.012082482688128948, -0.0076918718405067 ...\n",
            "body_blob:  Above rates are subject to 10% Service Charge & 10% Bhutan Sal ...\n",
            "metadata_blob: {'creationdate': \"D:20250305055202Z00'00'\", 'creator': 'PyPDF', 'moddate': \"D:20250305055202Z00'00'\", 'page': '0.0', 'page_label': '1', 'producer': 'macOS Version 15.3.1 (Build 24D70) Quartz PDFContext', 'source': '/test.pdf', 'total_pages': '15.0'}\n",
            "\n",
            "Row 30:\n",
            "row_id: c3a357fc5f3b48ad85b2c892cb60bf43\n",
            "embedding_vector: [0.0017128060571849346, -0.008814401924610138, 0.004506686236709 ...\n",
            "body_blob: Email: yangkhilreservation@gmail.com \n",
            "yangkhilresort@gmail.com \n",
            " ...\n",
            "metadata_blob: {'creationdate': \"D:20250305055202Z00'00'\", 'creator': 'PyPDF', 'moddate': \"D:20250305055202Z00'00'\", 'page': '11.0', 'page_label': '12', 'producer': 'macOS Version 15.3.1 (Build 24D70) Quartz PDFContext', 'source': '/test.pdf', 'total_pages': '15.0'}\n",
            "\n",
            "Row 31:\n",
            "row_id: 496491fd2e1149488fd7dbb8731f90f4\n",
            "embedding_vector: [-0.004471855238080025, -0.009447298012673855, -0.00372318900190 ...\n",
            "body_blob: the availability of rooms. \n",
            "3. The agents shall inform the hotel ...\n",
            "metadata_blob: {'creationdate': \"D:20250305055202Z00'00'\", 'creator': 'PyPDF', 'moddate': \"D:20250305055202Z00'00'\", 'page': '1.0', 'page_label': '2', 'producer': 'macOS Version 15.3.1 (Build 24D70) Quartz PDFContext', 'source': '/test.pdf', 'total_pages': '15.0'}\n",
            "\n",
            "Row 32:\n",
            "row_id: b707a6aa0ab345989a58fa5b318feafd\n",
            "embedding_vector: [-0.010910386219620705, -0.00028760512941516936, -0.003973127342 ...\n",
            "body_blob: PHONE / WHATSAPP NUMBER\n",
            "+975 17166888\n",
            "+975 77166888\n",
            "willingbhuta ...\n",
            "metadata_blob: {'creationdate': \"D:20250305055202Z00'00'\", 'creator': 'PyPDF', 'moddate': \"D:20250305055202Z00'00'\", 'page': '2.0', 'page_label': '3', 'producer': 'macOS Version 15.3.1 (Build 24D70) Quartz PDFContext', 'source': '/test.pdf', 'total_pages': '15.0'}\n",
            "\n",
            "Row 33:\n",
            "row_id: 17a35101c99c45259c0daa32c2627c44\n",
            "embedding_vector: [0.004760140553116798, 0.03386778011918068, 0.001155650825239718 ...\n",
            "body_blob: Pre-arrival  documents for smooth check-in process\n",
            "Passport copi ...\n",
            "metadata_blob: {'creationdate': \"D:20250305055202Z00'00'\", 'creator': 'PyPDF', 'moddate': \"D:20250305055202Z00'00'\", 'page': '7.0', 'page_label': '8', 'producer': 'macOS Version 15.3.1 (Build 24D70) Quartz PDFContext', 'source': '/test.pdf', 'total_pages': '15.0'}\n",
            "\n",
            "Row 34:\n",
            "row_id: d115d43b61554b7b9c0d481855b34a48\n",
            "embedding_vector: [-0.009528204798698425, -0.0009701843373477459, -0.0077614746987 ...\n",
            "body_blob: ________________________________________________________________ ...\n",
            "metadata_blob: {'creationdate': \"D:20250305055202Z00'00'\", 'creator': 'PyPDF', 'moddate': \"D:20250305055202Z00'00'\", 'page': '0.0', 'page_label': '1', 'producer': 'macOS Version 15.3.1 (Build 24D70) Quartz PDFContext', 'source': '/test.pdf', 'total_pages': '15.0'}\n",
            "\n",
            "Row 35:\n",
            "row_id: ce8149b7682b40d396ee53067cadc4dd\n",
            "embedding_vector: [0.001474935095757246, -0.01161007210612297, -0.0013714616652578 ...\n",
            "body_blob: IF YOU REQUIRE ADDITIONAL INFORMATION, KINDLY CONTACT US. \n",
            " \n",
            "THA ...\n",
            "metadata_blob: {'creationdate': \"D:20250305055202Z00'00'\", 'creator': 'PyPDF', 'moddate': \"D:20250305055202Z00'00'\", 'page': '10.0', 'page_label': '11', 'producer': 'macOS Version 15.3.1 (Build 24D70) Quartz PDFContext', 'source': '/test.pdf', 'total_pages': '15.0'}\n",
            "\n",
            "Row 36:\n",
            "row_id: a8c7f54ea97b42a4ab6760df111ac32e\n",
            "embedding_vector: [0.01213100552558899, -0.0017115527298301458, 0.0112168425694108 ...\n",
            "body_blob: added to the tub chamber. The herb makes\n",
            "the water slightly blue ...\n",
            "metadata_blob: {'creationdate': \"D:20250305055202Z00'00'\", 'creator': 'PyPDF', 'moddate': \"D:20250305055202Z00'00'\", 'page': '14.0', 'page_label': '15', 'producer': 'macOS Version 15.3.1 (Build 24D70) Quartz PDFContext', 'source': '/test.pdf', 'total_pages': '15.0'}\n",
            "\n",
            "Row 37:\n",
            "row_id: d86027cd67f94825a106368f29ccc768\n",
            "embedding_vector: [-0.009641771204769611, 0.01266012154519558, 0.01118680182844400 ...\n",
            "body_blob: for relaxation and socializing. ...\n",
            "metadata_blob: {'creationdate': \"D:20250305055202Z00'00'\", 'creator': 'PyPDF', 'moddate': \"D:20250305055202Z00'00'\", 'page': '13.0', 'page_label': '14', 'producer': 'macOS Version 15.3.1 (Build 24D70) Quartz PDFContext', 'source': '/test.pdf', 'total_pages': '15.0'}\n",
            "\n",
            "Row 38:\n",
            "row_id: d92c4c9e36bc458f9ae3e0cca1ccd875\n",
            "embedding_vector: [-0.005756044760346413, -0.008507467806339264, -0.00299618160352 ...\n",
            "body_blob: ________________________________________________________________ ...\n",
            "metadata_blob: {'creationdate': \"D:20250305055202Z00'00'\", 'creator': 'PyPDF', 'moddate': \"D:20250305055202Z00'00'\", 'page': '1.0', 'page_label': '2', 'producer': 'macOS Version 15.3.1 (Build 24D70) Quartz PDFContext', 'source': '/test.pdf', 'total_pages': '15.0'}\n",
            "\n",
            "Row 39:\n",
            "row_id: 505e45bb453548d6baa0ccb63fa95b44\n",
            "embedding_vector: [-0.005748027469962835, -0.008313043043017387, 0.006794633809477 ...\n",
            "body_blob: Email: yangkhilreservation@gmail.com \n",
            "yangkhilresort@gmail.com \n",
            " ...\n",
            "metadata_blob: {'creationdate': \"D:20250305055202Z00'00'\", 'creator': 'PyPDF', 'moddate': \"D:20250305055202Z00'00'\", 'page': '10.0', 'page_label': '11', 'producer': 'macOS Version 15.3.1 (Build 24D70) Quartz PDFContext', 'source': '/test.pdf', 'total_pages': '15.0'}\n",
            "\n",
            "Row 40:\n",
            "row_id: 8fbf2c69ded64a57a21153ee29a97677\n",
            "embedding_vector: [-0.005449232179671526, 0.0005629946244880557, 0.005010938271880 ...\n",
            "body_blob: Absolutely breathtaking view from your suite window overlooking  ...\n",
            "metadata_blob: {'creationdate': \"D:20250305055202Z00'00'\", 'creator': 'PyPDF', 'moddate': \"D:20250305055202Z00'00'\", 'page': '5.0', 'page_label': '6', 'producer': 'macOS Version 15.3.1 (Build 24D70) Quartz PDFContext', 'source': '/test.pdf', 'total_pages': '15.0'}\n",
            "\n",
            "Row 41:\n",
            "row_id: 7e1ec8adfaa94d55aba0a291664c8398\n",
            "embedding_vector: [-0.004300147760659456, 0.008727459236979485, 0.0158620234578847 ...\n",
            "body_blob: yangkhilresort@gmail.com \n",
            "Benefit \n",
            "The rates are excluding  10 % ...\n",
            "metadata_blob: {'creationdate': \"D:20250305055202Z00'00'\", 'creator': 'PyPDF', 'moddate': \"D:20250305055202Z00'00'\", 'page': '14.0', 'page_label': '15', 'producer': 'macOS Version 15.3.1 (Build 24D70) Quartz PDFContext', 'source': '/test.pdf', 'total_pages': '15.0'}\n",
            "\n",
            "Row 42:\n",
            "row_id: 9fcf33bb91984a4d9f01ce9146248c5f\n",
            "embedding_vector: [0.02146337367594242, 0.009702527895569801, 0.000611486088018864 ...\n",
            "body_blob: Cancellation Policy \n",
            " This cancellation policy shall apply to th ...\n",
            "metadata_blob: {'creationdate': \"D:20250305055202Z00'00'\", 'creator': 'PyPDF', 'moddate': \"D:20250305055202Z00'00'\", 'page': '0.0', 'page_label': '1', 'producer': 'macOS Version 15.3.1 (Build 24D70) Quartz PDFContext', 'source': '/test.pdf', 'total_pages': '15.0'}\n",
            "\n",
            "Row 43:\n",
            "row_id: 5e9fecfaeb1545fca0d5ee849c0f2e64\n",
            "embedding_vector: [-0.014921190217137337, 0.015560099855065346, 0.0057102502323687 ...\n",
            "body_blob: Massage Room\n",
            "Traditional Hot Stone Bath\n",
            "To compliment the tradit ...\n",
            "metadata_blob: {'creationdate': \"D:20250305055202Z00'00'\", 'creator': 'PyPDF', 'moddate': \"D:20250305055202Z00'00'\", 'page': '12.0', 'page_label': '13', 'producer': 'macOS Version 15.3.1 (Build 24D70) Quartz PDFContext', 'source': '/test.pdf', 'total_pages': '15.0'}\n",
            "\n",
            "Row 44:\n",
            "row_id: 1315900f82fa42868a05d514c7b5b6ab\n",
            "embedding_vector: [-0.04021612927317619, -0.010735888034105301, 0.0059963213279843 ...\n",
            "body_blob: Beneficiary Account Number: 202677904\n",
            "Swift Code No. BHUBBTBT022 ...\n",
            "metadata_blob: {'creationdate': \"D:20250305055202Z00'00'\", 'creator': 'PyPDF', 'moddate': \"D:20250305055202Z00'00'\", 'page': '8.0', 'page_label': '9', 'producer': 'macOS Version 15.3.1 (Build 24D70) Quartz PDFContext', 'source': '/test.pdf', 'total_pages': '15.0'}\n",
            "\n",
            "Row 45:\n",
            "row_id: 97094346b6274fe89e1615164b5f68e6\n",
            "embedding_vector: [0.012903235852718353, -0.0009786064038053155, -0.01100384537130 ...\n",
            "body_blob: ** For group size 1 & 2 pax, the rates are higher compared to 3  ...\n",
            "metadata_blob: {'creationdate': \"D:20250305055202Z00'00'\", 'creator': 'PyPDF', 'moddate': \"D:20250305055202Z00'00'\", 'page': '10.0', 'page_label': '11', 'producer': 'macOS Version 15.3.1 (Build 24D70) Quartz PDFContext', 'source': '/test.pdf', 'total_pages': '15.0'}\n",
            "\n",
            "Row 46:\n",
            "row_id: ea5952705fb84cfea3947d594e16dc72\n",
            "embedding_vector: [0.02735215425491333, -0.0036789446603506804, 0.0035323200281709 ...\n",
            "body_blob: Cancellation made within 30 days from the date of arrival: 100%  ...\n",
            "metadata_blob: {'creationdate': \"D:20250305055202Z00'00'\", 'creator': 'PyPDF', 'moddate': \"D:20250305055202Z00'00'\", 'page': '1.0', 'page_label': '2', 'producer': 'macOS Version 15.3.1 (Build 24D70) Quartz PDFContext', 'source': '/test.pdf', 'total_pages': '15.0'}\n",
            "\n",
            "Row 47:\n",
            "row_id: 3c759903b2954cb5b1d08938de9190de\n",
            "embedding_vector: [-0.008046118542551994, 0.0033447525929659605, -0.00018001852731 ...\n",
            "body_blob: 100% payment deposit is required after the reservations/booking  ...\n",
            "metadata_blob: {'creationdate': \"D:20250305055202Z00'00'\", 'creator': 'PyPDF', 'moddate': \"D:20250305055202Z00'00'\", 'page': '7.0', 'page_label': '8', 'producer': 'macOS Version 15.3.1 (Build 24D70) Quartz PDFContext', 'source': '/test.pdf', 'total_pages': '15.0'}\n",
            "\n",
            "...\n"
          ]
        }
      ]
    },
    {
      "cell_type": "markdown",
      "source": [
        "# Asking Questions to the PDF"
      ],
      "metadata": {
        "id": "6a75vM3tfzih"
      }
    },
    {
      "cell_type": "code",
      "source": [
        "query_1 = \"What is the rate of Yangkhil?\"\n",
        "pdf_index.query_with_sources(query_1, llm=llm)"
      ],
      "metadata": {
        "colab": {
          "base_uri": "https://localhost:8080/"
        },
        "id": "FKXHMgbVOdC3",
        "outputId": "e301e3b6-a803-46b6-a2d6-3596b67ff11b"
      },
      "execution_count": 31,
      "outputs": [
        {
          "output_type": "stream",
          "name": "stderr",
          "text": [
            "WARNING:cassandra.protocol:Server warning: Top-K queries can only be run with consistency level ONE / LOCAL_ONE / NODE_LOCAL. Consistency level LOCAL_QUORUM was requested. Downgrading the consistency level to LOCAL_ONE.\n"
          ]
        },
        {
          "output_type": "execute_result",
          "data": {
            "text/plain": [
              "{'question': 'What is the rate of Yangkhil?',\n",
              " 'answer': ' The rate of Yangkhil is not mentioned.\\n',\n",
              " 'sources': ''}"
            ]
          },
          "metadata": {},
          "execution_count": 31
        }
      ]
    },
    {
      "cell_type": "code",
      "source": [
        "query_2 = \"How many hotels\"\n",
        "pdf_index.query_with_sources(query_2, llm=llm)"
      ],
      "metadata": {
        "colab": {
          "base_uri": "https://localhost:8080/"
        },
        "id": "BdW--gMhOdFk",
        "outputId": "4462b267-7dbf-4129-956b-5274bcd6e7b5"
      },
      "execution_count": 34,
      "outputs": [
        {
          "output_type": "stream",
          "name": "stderr",
          "text": [
            "WARNING:cassandra.protocol:Server warning: Top-K queries can only be run with consistency level ONE / LOCAL_ONE / NODE_LOCAL. Consistency level LOCAL_QUORUM was requested. Downgrading the consistency level to LOCAL_ONE.\n"
          ]
        },
        {
          "output_type": "execute_result",
          "data": {
            "text/plain": [
              "{'question': 'How many hotels',\n",
              " 'answer': ' There are 3 types of rooms available at the hotel: Junior Suite, Deluxe Suite, and Luxury Suite. The rates for these rooms vary depending on single or double occupancy. The hotel also offers discounts for agents, ranging from 10% to 36% based on the room category. \\n',\n",
              " 'sources': '/test.pdf'}"
            ]
          },
          "metadata": {},
          "execution_count": 34
        }
      ]
    },
    {
      "cell_type": "code",
      "source": [],
      "metadata": {
        "id": "3aeyU4KmOZrC"
      },
      "execution_count": null,
      "outputs": []
    },
    {
      "cell_type": "code",
      "source": [],
      "metadata": {
        "id": "eWoQcwyIOX9K"
      },
      "execution_count": null,
      "outputs": []
    }
  ]
}